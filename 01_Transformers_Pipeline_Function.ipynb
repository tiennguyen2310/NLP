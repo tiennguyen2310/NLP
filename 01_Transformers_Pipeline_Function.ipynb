{
  "nbformat": 4,
  "nbformat_minor": 0,
  "metadata": {
    "colab": {
      "provenance": [],
      "toc_visible": true,
      "authorship_tag": "ABX9TyOHn+V6n0WlBwRtUBStuc2o",
      "include_colab_link": true
    },
    "kernelspec": {
      "name": "python3",
      "display_name": "Python 3"
    },
    "language_info": {
      "name": "python"
    }
  },
  "cells": [
    {
      "cell_type": "markdown",
      "metadata": {
        "id": "view-in-github",
        "colab_type": "text"
      },
      "source": [
        "<a href=\"https://colab.research.google.com/github/tiennguyen2310/NLP/blob/main/01_Transformers_Pipeline_Function.ipynb\" target=\"_parent\"><img src=\"https://colab.research.google.com/assets/colab-badge.svg\" alt=\"Open In Colab\"/></a>"
      ]
    },
    {
      "cell_type": "markdown",
      "source": [
        "#**Prepare Library & Functions**"
      ],
      "metadata": {
        "id": "33M4s3_24eKj"
      }
    },
    {
      "cell_type": "code",
      "execution_count": null,
      "metadata": {
        "id": "LGrRP8Y_3M6V"
      },
      "outputs": [],
      "source": [
        "!pip install datasets evaluate transformers[sentencepiece]\n",
        "from transformers import pipeline"
      ]
    },
    {
      "cell_type": "markdown",
      "source": [
        "#**Sentiment Analysis**\n",
        "**Def:** *Checking if the statement given is positive or negative, and by how many percent.*"
      ],
      "metadata": {
        "id": "skVjQGt74lUP"
      }
    },
    {
      "cell_type": "code",
      "source": [
        "classifier = pipeline(\"sentiment-analysis\")\n",
        "classifier(\"I trust that you have done good.\")"
      ],
      "metadata": {
        "id": "DaQ7j3T73VvA"
      },
      "execution_count": null,
      "outputs": []
    },
    {
      "cell_type": "code",
      "source": [
        "classifier(\"I trust that you can do better in the future.\")"
      ],
      "metadata": {
        "id": "LMY8GjqZ3rif"
      },
      "execution_count": null,
      "outputs": []
    },
    {
      "cell_type": "markdown",
      "source": [
        "**Note:** You can pass in *multiple texts/statements*."
      ],
      "metadata": {
        "id": "Od6z_Hui5kF9"
      }
    },
    {
      "cell_type": "code",
      "source": [
        "classifier([\"I love you.\", \"I hate you.\"])"
      ],
      "metadata": {
        "id": "7teZ-EFy5YeY"
      },
      "execution_count": null,
      "outputs": []
    },
    {
      "cell_type": "markdown",
      "source": [
        "#**Zero-shot Classification**\n",
        "\n",
        "**Def:** *This algorithm lets you decide which labels you want for classification.*\n",
        "\n",
        "So, it is *not limited to Positive/Negative* like Sentiment Analysis, but **you can actually create labels** you want to implement."
      ],
      "metadata": {
        "id": "8ahEI3D48r3Z"
      }
    },
    {
      "cell_type": "code",
      "source": [
        "classifier = pipeline(\"zero-shot-classification\")\n",
        "classifier(\n",
        "    \"I love going to Vietnam.\",\n",
        "    candidate_labels = [\"education\", \"tourism\", \"politics\"]\n",
        ")"
      ],
      "metadata": {
        "id": "6dA_g_cf6I4d"
      },
      "execution_count": null,
      "outputs": []
    },
    {
      "cell_type": "markdown",
      "source": [
        "##**Compare Sentiment Analysis with Zero-shot Classification.**\n",
        "\n",
        "Again, for *I love you.* statement, Sentiment Analysis gives a positive\n",
        "value of `0.9998705387115479`.\n",
        "\n",
        "Also, notice that $P(positive) + P(negative) \\approx 1$\n"
      ],
      "metadata": {
        "id": "hX_p59YR-8NC"
      }
    },
    {
      "cell_type": "code",
      "source": [
        "classifier(\n",
        "    \"I love you.\",\n",
        "    candidate_labels = [\"POSITIVE\", \"NEGATIVE\"]\n",
        ")"
      ],
      "metadata": {
        "id": "1OTyQVQJ-MV6"
      },
      "execution_count": null,
      "outputs": []
    },
    {
      "cell_type": "markdown",
      "source": [
        "#**Text Generation**\n",
        "\n",
        "**Def:** *This algorithm auto-completes the given prompt.*\n",
        "\n",
        "**Note:** You can decide some characteristics:\n",
        "1.   `max_length`: the maximum length\n",
        "2.   `min_length`: the minimum length\n",
        "3.   `num_return_sequences`: the number of sequences being returned\n",
        "\n",
        "\n"
      ],
      "metadata": {
        "id": "hVmWrrE7AohO"
      }
    },
    {
      "cell_type": "markdown",
      "source": [
        "##**Default Model**"
      ],
      "metadata": {
        "id": "-Wz3i3tVKByr"
      }
    },
    {
      "cell_type": "code",
      "source": [
        "generator = pipeline(\"text-generation\")"
      ],
      "metadata": {
        "id": "8MD_wJa3-jUZ"
      },
      "execution_count": null,
      "outputs": []
    },
    {
      "cell_type": "code",
      "source": [
        "generator(\"I love travelling to Vietnam because\")"
      ],
      "metadata": {
        "id": "3MQNrv-AI0va"
      },
      "execution_count": null,
      "outputs": []
    },
    {
      "cell_type": "code",
      "source": [
        "generator(\n",
        "    \"I will study Natural Language Processing in order to\",\n",
        "    max_length = 200,\n",
        "    num_return_sequences = 5\n",
        ")"
      ],
      "metadata": {
        "id": "fKufqv6HKlfm"
      },
      "execution_count": null,
      "outputs": []
    },
    {
      "cell_type": "markdown",
      "source": [
        "##**Particular Model from the Hub**"
      ],
      "metadata": {
        "id": "sPAVtB_PKGOC"
      }
    },
    {
      "cell_type": "code",
      "source": [
        "generator = pipeline(\"text-generation\", model = \"distilgpt2\")"
      ],
      "metadata": {
        "id": "yXcmpRyHJAxu"
      },
      "execution_count": null,
      "outputs": []
    },
    {
      "cell_type": "code",
      "source": [
        "generator(\n",
        "    \"Google Colab is a good tool to\",\n",
        "    max_length = 100,\n",
        "    min_length = 80,\n",
        "    num_return_sequences = 5\n",
        ")"
      ],
      "metadata": {
        "id": "DbuB-x5tKZ1y"
      },
      "execution_count": null,
      "outputs": []
    },
    {
      "cell_type": "markdown",
      "source": [
        "#**Mask filling**\n",
        "\n",
        "**Def:** *Fill in the blank*"
      ],
      "metadata": {
        "id": "hMLre4dhNMnI"
      }
    },
    {
      "cell_type": "code",
      "source": [
        "unmasker = pipeline(\"fill-mask\")\n",
        "unmasker(\"I love travelling to <mask>.\", top_k = 5)"
      ],
      "metadata": {
        "id": "Fx9jgI3iMSgg"
      },
      "execution_count": null,
      "outputs": []
    },
    {
      "cell_type": "markdown",
      "source": [
        "#**Named Entity Recognition** (NER)\n",
        "\n",
        "**Def:** This algorithm finds which part/word **refers to entities** (name of persons/locations/organizations/etc)."
      ],
      "metadata": {
        "id": "4Hogho1yPFgP"
      }
    },
    {
      "cell_type": "markdown",
      "source": [
        "In the code below, `grouped_entities = True` means that some separate words, if referred to the same entity, will be grouped together!"
      ],
      "metadata": {
        "id": "lkYTVypURT2H"
      }
    },
    {
      "cell_type": "code",
      "source": [
        "ner = pipeline(\"ner\", grouped_entities = True)"
      ],
      "metadata": {
        "id": "PlbvMny9OHyn"
      },
      "execution_count": null,
      "outputs": []
    },
    {
      "cell_type": "markdown",
      "source": [
        "**Eg:** `Nguyen Chu Viet Tien` are `4` separate words, but refer to `1` entity (person)."
      ],
      "metadata": {
        "id": "M5T4D9f3RTJh"
      }
    },
    {
      "cell_type": "code",
      "source": [
        "ner(\"My Full Name is Nguyen Chu Viet Tien. I Come from Hanoi, Vietnam. Currently, I am studying Computer Science at the University of Richmond.\")"
      ],
      "metadata": {
        "id": "oovseD0vQkto"
      },
      "execution_count": null,
      "outputs": []
    },
    {
      "cell_type": "markdown",
      "source": [
        "#**Question Answering**\n",
        "\n",
        "**Def:** Return the answer to a question, given a context."
      ],
      "metadata": {
        "id": "vyMNEP-acrMN"
      }
    },
    {
      "cell_type": "code",
      "source": [
        "question_answerer = pipeline(\"question-answering\")"
      ],
      "metadata": {
        "id": "BDcuN4VPc3uv"
      },
      "execution_count": null,
      "outputs": []
    },
    {
      "cell_type": "markdown",
      "source": [
        "Note: pipeline `extracts answer from the given context`, and does **NOT** generate the answer!"
      ],
      "metadata": {
        "id": "o1YFdWmFe6oC"
      }
    },
    {
      "cell_type": "code",
      "source": [
        "question_answerer(\n",
        "    question = \"What do I usually eat?\",\n",
        "    context = \"My name is Tien. I love eating salad.\"\n",
        ")"
      ],
      "metadata": {
        "id": "XZbqd6rUQs6x"
      },
      "execution_count": null,
      "outputs": []
    },
    {
      "cell_type": "markdown",
      "source": [
        "#**Text Summary**\n",
        "\n",
        "**Note:** You can specify `max_length` and `min_length`, same as `Text Generation`."
      ],
      "metadata": {
        "id": "X60m746wf564"
      }
    },
    {
      "cell_type": "code",
      "source": [
        "summarizer = pipeline(\"summarization\")"
      ],
      "metadata": {
        "id": "ssoyCdcTc9nf"
      },
      "execution_count": null,
      "outputs": []
    },
    {
      "cell_type": "code",
      "source": [
        "summarizer(\n",
        "\"\"\"\n",
        "The relationship between knowledge and power has long been a prominent issue in science and science fiction. Does ownership have anything to do with creativity? If someone invents something, should he or she be held fully responsible for his or her innovation?  Indeed, the interaction between the two main characters in Mary Shelley’s Frankenstein shows the inseparable relationship between knowledge and power, opening up numerous questions about responsibility and ethics for invention.\n",
        "From my personal perspective, while we do not always own the faith of our investigation or invention, we have a responsibility to the consequences that it may bring to the community. In the story, Victor Frankenstein represents the example of an ambitious scientist who is not afraid to dive deep into an unexplored field of knowledge. The desire to overcome the limits of nature and create life demonstrates that humans can achieve considerable power through expertise and creativity. However, this power also has an undeniable responsibility to control possible bad situations. When Victor built the creature, he was not prepared for the consequences of its actions later in the book; rather, he was only interested in proving his own abilities, forgetting that every invention can bring about unpredictable outcomes, a serious shortcoming of the inventor. Victor failed to control and take responsibility for his creation. Alternatively, Victor fled and left the creature to ravage human society, leading to a chain of unrecoverable tragedies. The beast, rejected and despised, became more and more brutal, acting not only out of pain but also out of a lack of love and acceptance.\n",
        "\"\"\",\n",
        "            max_length = 100,\n",
        "            min_length = 70\n",
        ")"
      ],
      "metadata": {
        "id": "SHUXkeLNgL2k"
      },
      "execution_count": null,
      "outputs": []
    },
    {
      "cell_type": "markdown",
      "source": [
        "#**Translation**"
      ],
      "metadata": {
        "id": "wYbS0Yd-hP_Y"
      }
    },
    {
      "cell_type": "code",
      "source": [
        "translator = pipeline(\"translation\", model = \"VietAI/envit5-translation\")"
      ],
      "metadata": {
        "id": "avhPEAIKhmhB"
      },
      "execution_count": null,
      "outputs": []
    },
    {
      "cell_type": "code",
      "source": [
        "translator(\"Hello, How are you doing?\")"
      ],
      "metadata": {
        "id": "9f5inI_ejCLf"
      },
      "execution_count": null,
      "outputs": []
    },
    {
      "cell_type": "code",
      "source": [
        "translator(\"Tôi rất khỏe, còn bạn thì sao?\")"
      ],
      "metadata": {
        "id": "4cM2e1fBj_Rh"
      },
      "execution_count": null,
      "outputs": []
    }
  ]
}